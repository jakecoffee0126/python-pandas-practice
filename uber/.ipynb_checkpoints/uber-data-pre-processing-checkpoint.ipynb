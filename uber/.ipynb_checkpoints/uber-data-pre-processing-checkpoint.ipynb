{
 "cells": [
  {
   "cell_type": "code",
   "execution_count": 1,
   "id": "d2248b36",
   "metadata": {
    "execution": {
     "iopub.execute_input": "2025-09-02T06:07:47.226870Z",
     "iopub.status.busy": "2025-09-02T06:07:47.226493Z",
     "iopub.status.idle": "2025-09-02T06:07:49.496674Z",
     "shell.execute_reply": "2025-09-02T06:07:49.495296Z"
    },
    "papermill": {
     "duration": 2.280102,
     "end_time": "2025-09-02T06:07:49.499300",
     "exception": false,
     "start_time": "2025-09-02T06:07:47.219198",
     "status": "completed"
    },
    "tags": []
   },
   "outputs": [],
   "source": [
    "import numpy as np \n",
    "import pandas as pd\n",
    "import warnings\n",
    "warnings.filterwarnings('ignore')"
   ]
  },
  {
   "cell_type": "code",
   "execution_count": 2,
   "id": "87ce89e6",
   "metadata": {
    "execution": {
     "iopub.execute_input": "2025-09-02T06:07:49.512654Z",
     "iopub.status.busy": "2025-09-02T06:07:49.512208Z",
     "iopub.status.idle": "2025-09-02T06:07:50.862769Z",
     "shell.execute_reply": "2025-09-02T06:07:50.861062Z"
    },
    "papermill": {
     "duration": 1.360117,
     "end_time": "2025-09-02T06:07:50.864973",
     "exception": false,
     "start_time": "2025-09-02T06:07:49.504856",
     "status": "completed"
    },
    "tags": []
   },
   "outputs": [
    {
     "name": "stdout",
     "output_type": "stream",
     "text": [
      "/kaggle/input/uber-ride-analytics-dashboard/ncr_ride_bookings.csv\n",
      "/kaggle/input/uber-ride-analytics-dashboard/Dasboard.gif\n",
      "/kaggle/input/uber-ride-analytics-dashboard/Uber.pbix\n"
     ]
    }
   ],
   "source": [
    "import os\n",
    "for dirname, _, filenames in os.walk('/kaggle/input'):\n",
    "    for filename in filenames:\n",
    "        print(os.path.join(dirname, filename))\n",
    "\n",
    "df = pd.read_csv(\"/kaggle/input/uber-ride-analytics-dashboard/ncr_ride_bookings.csv\")"
   ]
  },
  {
   "cell_type": "code",
   "execution_count": 3,
   "id": "6ed1a852",
   "metadata": {
    "execution": {
     "iopub.execute_input": "2025-09-02T06:07:50.877739Z",
     "iopub.status.busy": "2025-09-02T06:07:50.876515Z",
     "iopub.status.idle": "2025-09-02T06:07:50.921935Z",
     "shell.execute_reply": "2025-09-02T06:07:50.920880Z"
    },
    "papermill": {
     "duration": 0.054139,
     "end_time": "2025-09-02T06:07:50.924395",
     "exception": false,
     "start_time": "2025-09-02T06:07:50.870256",
     "status": "completed"
    },
    "tags": []
   },
   "outputs": [
    {
     "data": {
      "text/html": [
       "<div>\n",
       "<style scoped>\n",
       "    .dataframe tbody tr th:only-of-type {\n",
       "        vertical-align: middle;\n",
       "    }\n",
       "\n",
       "    .dataframe tbody tr th {\n",
       "        vertical-align: top;\n",
       "    }\n",
       "\n",
       "    .dataframe thead th {\n",
       "        text-align: right;\n",
       "    }\n",
       "</style>\n",
       "<table border=\"1\" class=\"dataframe\">\n",
       "  <thead>\n",
       "    <tr style=\"text-align: right;\">\n",
       "      <th></th>\n",
       "      <th>Date</th>\n",
       "      <th>Time</th>\n",
       "      <th>Booking ID</th>\n",
       "      <th>Booking Status</th>\n",
       "      <th>Customer ID</th>\n",
       "      <th>Vehicle Type</th>\n",
       "      <th>Pickup Location</th>\n",
       "      <th>Drop Location</th>\n",
       "      <th>Avg VTAT</th>\n",
       "      <th>Avg CTAT</th>\n",
       "      <th>...</th>\n",
       "      <th>Reason for cancelling by Customer</th>\n",
       "      <th>Cancelled Rides by Driver</th>\n",
       "      <th>Driver Cancellation Reason</th>\n",
       "      <th>Incomplete Rides</th>\n",
       "      <th>Incomplete Rides Reason</th>\n",
       "      <th>Booking Value</th>\n",
       "      <th>Ride Distance</th>\n",
       "      <th>Driver Ratings</th>\n",
       "      <th>Customer Rating</th>\n",
       "      <th>Payment Method</th>\n",
       "    </tr>\n",
       "  </thead>\n",
       "  <tbody>\n",
       "    <tr>\n",
       "      <th>0</th>\n",
       "      <td>2024-03-23</td>\n",
       "      <td>12:29:38</td>\n",
       "      <td>\"CNR5884300\"</td>\n",
       "      <td>No Driver Found</td>\n",
       "      <td>\"CID1982111\"</td>\n",
       "      <td>eBike</td>\n",
       "      <td>Palam Vihar</td>\n",
       "      <td>Jhilmil</td>\n",
       "      <td>NaN</td>\n",
       "      <td>NaN</td>\n",
       "      <td>...</td>\n",
       "      <td>NaN</td>\n",
       "      <td>NaN</td>\n",
       "      <td>NaN</td>\n",
       "      <td>NaN</td>\n",
       "      <td>NaN</td>\n",
       "      <td>NaN</td>\n",
       "      <td>NaN</td>\n",
       "      <td>NaN</td>\n",
       "      <td>NaN</td>\n",
       "      <td>NaN</td>\n",
       "    </tr>\n",
       "    <tr>\n",
       "      <th>1</th>\n",
       "      <td>2024-11-29</td>\n",
       "      <td>18:01:39</td>\n",
       "      <td>\"CNR1326809\"</td>\n",
       "      <td>Incomplete</td>\n",
       "      <td>\"CID4604802\"</td>\n",
       "      <td>Go Sedan</td>\n",
       "      <td>Shastri Nagar</td>\n",
       "      <td>Gurgaon Sector 56</td>\n",
       "      <td>4.9</td>\n",
       "      <td>14.0</td>\n",
       "      <td>...</td>\n",
       "      <td>NaN</td>\n",
       "      <td>NaN</td>\n",
       "      <td>NaN</td>\n",
       "      <td>1.0</td>\n",
       "      <td>Vehicle Breakdown</td>\n",
       "      <td>237.0</td>\n",
       "      <td>5.73</td>\n",
       "      <td>NaN</td>\n",
       "      <td>NaN</td>\n",
       "      <td>UPI</td>\n",
       "    </tr>\n",
       "    <tr>\n",
       "      <th>2</th>\n",
       "      <td>2024-08-23</td>\n",
       "      <td>08:56:10</td>\n",
       "      <td>\"CNR8494506\"</td>\n",
       "      <td>Completed</td>\n",
       "      <td>\"CID9202816\"</td>\n",
       "      <td>Auto</td>\n",
       "      <td>Khandsa</td>\n",
       "      <td>Malviya Nagar</td>\n",
       "      <td>13.4</td>\n",
       "      <td>25.8</td>\n",
       "      <td>...</td>\n",
       "      <td>NaN</td>\n",
       "      <td>NaN</td>\n",
       "      <td>NaN</td>\n",
       "      <td>NaN</td>\n",
       "      <td>NaN</td>\n",
       "      <td>627.0</td>\n",
       "      <td>13.58</td>\n",
       "      <td>4.9</td>\n",
       "      <td>4.9</td>\n",
       "      <td>Debit Card</td>\n",
       "    </tr>\n",
       "    <tr>\n",
       "      <th>3</th>\n",
       "      <td>2024-10-21</td>\n",
       "      <td>17:17:25</td>\n",
       "      <td>\"CNR8906825\"</td>\n",
       "      <td>Completed</td>\n",
       "      <td>\"CID2610914\"</td>\n",
       "      <td>Premier Sedan</td>\n",
       "      <td>Central Secretariat</td>\n",
       "      <td>Inderlok</td>\n",
       "      <td>13.1</td>\n",
       "      <td>28.5</td>\n",
       "      <td>...</td>\n",
       "      <td>NaN</td>\n",
       "      <td>NaN</td>\n",
       "      <td>NaN</td>\n",
       "      <td>NaN</td>\n",
       "      <td>NaN</td>\n",
       "      <td>416.0</td>\n",
       "      <td>34.02</td>\n",
       "      <td>4.6</td>\n",
       "      <td>5.0</td>\n",
       "      <td>UPI</td>\n",
       "    </tr>\n",
       "    <tr>\n",
       "      <th>4</th>\n",
       "      <td>2024-09-16</td>\n",
       "      <td>22:08:00</td>\n",
       "      <td>\"CNR1950162\"</td>\n",
       "      <td>Completed</td>\n",
       "      <td>\"CID9933542\"</td>\n",
       "      <td>Bike</td>\n",
       "      <td>Ghitorni Village</td>\n",
       "      <td>Khan Market</td>\n",
       "      <td>5.3</td>\n",
       "      <td>19.6</td>\n",
       "      <td>...</td>\n",
       "      <td>NaN</td>\n",
       "      <td>NaN</td>\n",
       "      <td>NaN</td>\n",
       "      <td>NaN</td>\n",
       "      <td>NaN</td>\n",
       "      <td>737.0</td>\n",
       "      <td>48.21</td>\n",
       "      <td>4.1</td>\n",
       "      <td>4.3</td>\n",
       "      <td>UPI</td>\n",
       "    </tr>\n",
       "  </tbody>\n",
       "</table>\n",
       "<p>5 rows × 21 columns</p>\n",
       "</div>"
      ],
      "text/plain": [
       "         Date      Time    Booking ID   Booking Status   Customer ID  \\\n",
       "0  2024-03-23  12:29:38  \"CNR5884300\"  No Driver Found  \"CID1982111\"   \n",
       "1  2024-11-29  18:01:39  \"CNR1326809\"       Incomplete  \"CID4604802\"   \n",
       "2  2024-08-23  08:56:10  \"CNR8494506\"        Completed  \"CID9202816\"   \n",
       "3  2024-10-21  17:17:25  \"CNR8906825\"        Completed  \"CID2610914\"   \n",
       "4  2024-09-16  22:08:00  \"CNR1950162\"        Completed  \"CID9933542\"   \n",
       "\n",
       "    Vehicle Type      Pickup Location      Drop Location  Avg VTAT  Avg CTAT  \\\n",
       "0          eBike          Palam Vihar            Jhilmil       NaN       NaN   \n",
       "1       Go Sedan        Shastri Nagar  Gurgaon Sector 56       4.9      14.0   \n",
       "2           Auto              Khandsa      Malviya Nagar      13.4      25.8   \n",
       "3  Premier Sedan  Central Secretariat           Inderlok      13.1      28.5   \n",
       "4           Bike     Ghitorni Village        Khan Market       5.3      19.6   \n",
       "\n",
       "   ...  Reason for cancelling by Customer Cancelled Rides by Driver  \\\n",
       "0  ...                                NaN                       NaN   \n",
       "1  ...                                NaN                       NaN   \n",
       "2  ...                                NaN                       NaN   \n",
       "3  ...                                NaN                       NaN   \n",
       "4  ...                                NaN                       NaN   \n",
       "\n",
       "   Driver Cancellation Reason Incomplete Rides  Incomplete Rides Reason  \\\n",
       "0                         NaN              NaN                      NaN   \n",
       "1                         NaN              1.0        Vehicle Breakdown   \n",
       "2                         NaN              NaN                      NaN   \n",
       "3                         NaN              NaN                      NaN   \n",
       "4                         NaN              NaN                      NaN   \n",
       "\n",
       "  Booking Value  Ride Distance  Driver Ratings  Customer Rating  \\\n",
       "0           NaN            NaN             NaN              NaN   \n",
       "1         237.0           5.73             NaN              NaN   \n",
       "2         627.0          13.58             4.9              4.9   \n",
       "3         416.0          34.02             4.6              5.0   \n",
       "4         737.0          48.21             4.1              4.3   \n",
       "\n",
       "   Payment Method  \n",
       "0             NaN  \n",
       "1             UPI  \n",
       "2      Debit Card  \n",
       "3             UPI  \n",
       "4             UPI  \n",
       "\n",
       "[5 rows x 21 columns]"
      ]
     },
     "execution_count": 3,
     "metadata": {},
     "output_type": "execute_result"
    }
   ],
   "source": [
    "df.head()"
   ]
  },
  {
   "cell_type": "code",
   "execution_count": 4,
   "id": "469c9816",
   "metadata": {
    "execution": {
     "iopub.execute_input": "2025-09-02T06:07:50.938044Z",
     "iopub.status.busy": "2025-09-02T06:07:50.937655Z",
     "iopub.status.idle": "2025-09-02T06:07:50.967227Z",
     "shell.execute_reply": "2025-09-02T06:07:50.966026Z"
    },
    "papermill": {
     "duration": 0.03833,
     "end_time": "2025-09-02T06:07:50.969235",
     "exception": false,
     "start_time": "2025-09-02T06:07:50.930905",
     "status": "completed"
    },
    "tags": []
   },
   "outputs": [
    {
     "data": {
      "text/plain": [
       "Booking Status\n",
       "Completed                93000\n",
       "Cancelled by Driver      27000\n",
       "No Driver Found          10500\n",
       "Cancelled by Customer    10500\n",
       "Incomplete                9000\n",
       "Name: count, dtype: int64"
      ]
     },
     "execution_count": 4,
     "metadata": {},
     "output_type": "execute_result"
    }
   ],
   "source": [
    "df[\"Booking Status\"].value_counts()"
   ]
  },
  {
   "cell_type": "code",
   "execution_count": 5,
   "id": "e761e671",
   "metadata": {
    "execution": {
     "iopub.execute_input": "2025-09-02T06:07:50.981884Z",
     "iopub.status.busy": "2025-09-02T06:07:50.981535Z",
     "iopub.status.idle": "2025-09-02T06:07:51.108347Z",
     "shell.execute_reply": "2025-09-02T06:07:51.106950Z"
    },
    "papermill": {
     "duration": 0.135097,
     "end_time": "2025-09-02T06:07:51.110171",
     "exception": false,
     "start_time": "2025-09-02T06:07:50.975074",
     "status": "completed"
    },
    "tags": []
   },
   "outputs": [
    {
     "name": "stdout",
     "output_type": "stream",
     "text": [
      "<class 'pandas.core.frame.DataFrame'>\n",
      "RangeIndex: 150000 entries, 0 to 149999\n",
      "Data columns (total 21 columns):\n",
      " #   Column                             Non-Null Count   Dtype  \n",
      "---  ------                             --------------   -----  \n",
      " 0   Date                               150000 non-null  object \n",
      " 1   Time                               150000 non-null  object \n",
      " 2   Booking ID                         150000 non-null  object \n",
      " 3   Booking Status                     150000 non-null  object \n",
      " 4   Customer ID                        150000 non-null  object \n",
      " 5   Vehicle Type                       150000 non-null  object \n",
      " 6   Pickup Location                    150000 non-null  object \n",
      " 7   Drop Location                      150000 non-null  object \n",
      " 8   Avg VTAT                           139500 non-null  float64\n",
      " 9   Avg CTAT                           102000 non-null  float64\n",
      " 10  Cancelled Rides by Customer        10500 non-null   float64\n",
      " 11  Reason for cancelling by Customer  10500 non-null   object \n",
      " 12  Cancelled Rides by Driver          27000 non-null   float64\n",
      " 13  Driver Cancellation Reason         27000 non-null   object \n",
      " 14  Incomplete Rides                   9000 non-null    float64\n",
      " 15  Incomplete Rides Reason            9000 non-null    object \n",
      " 16  Booking Value                      102000 non-null  float64\n",
      " 17  Ride Distance                      102000 non-null  float64\n",
      " 18  Driver Ratings                     93000 non-null   float64\n",
      " 19  Customer Rating                    93000 non-null   float64\n",
      " 20  Payment Method                     102000 non-null  object \n",
      "dtypes: float64(9), object(12)\n",
      "memory usage: 24.0+ MB\n"
     ]
    }
   ],
   "source": [
    "df.info()"
   ]
  },
  {
   "cell_type": "code",
   "execution_count": null,
   "id": "6ae4ddd1",
   "metadata": {
    "execution": {
     "iopub.execute_input": "2025-09-02T06:07:51.123770Z",
     "iopub.status.busy": "2025-09-02T06:07:51.123421Z",
     "iopub.status.idle": "2025-09-02T06:07:51.227226Z",
     "shell.execute_reply": "2025-09-02T06:07:51.225463Z"
    },
    "papermill": {
     "duration": 0.11326,
     "end_time": "2025-09-02T06:07:51.229263",
     "exception": false,
     "start_time": "2025-09-02T06:07:51.116003",
     "status": "completed"
    },
    "tags": []
   },
   "outputs": [
    {
     "data": {
      "text/plain": [
       "Date                                      0\n",
       "Time                                      0\n",
       "Booking ID                                0\n",
       "Booking Status                            0\n",
       "Customer ID                               0\n",
       "Vehicle Type                              0\n",
       "Pickup Location                           0\n",
       "Drop Location                             0\n",
       "Avg VTAT                              10500\n",
       "Avg CTAT                              48000\n",
       "Cancelled Rides by Customer          139500\n",
       "Reason for cancelling by Customer    139500\n",
       "Cancelled Rides by Driver            123000\n",
       "Driver Cancellation Reason           123000\n",
       "Incomplete Rides                     141000\n",
       "Incomplete Rides Reason              141000\n",
       "Booking Value                         48000\n",
       "Ride Distance                         48000\n",
       "Driver Ratings                        57000\n",
       "Customer Rating                       57000\n",
       "Payment Method                        48000\n",
       "dtype: int64"
      ]
     },
     "execution_count": 6,
     "metadata": {},
     "output_type": "execute_result"
    }
   ],
   "source": [
    "df.isna().sum()"
   ]
  },
  {
   "cell_type": "code",
   "execution_count": 7,
   "id": "ea72fa61",
   "metadata": {
    "execution": {
     "iopub.execute_input": "2025-09-02T06:07:51.241993Z",
     "iopub.status.busy": "2025-09-02T06:07:51.241618Z",
     "iopub.status.idle": "2025-09-02T06:07:51.249404Z",
     "shell.execute_reply": "2025-09-02T06:07:51.248478Z"
    },
    "papermill": {
     "duration": 0.016762,
     "end_time": "2025-09-02T06:07:51.251885",
     "exception": false,
     "start_time": "2025-09-02T06:07:51.235123",
     "status": "completed"
    },
    "tags": []
   },
   "outputs": [
    {
     "data": {
      "text/plain": [
       "['Avg VTAT',\n",
       " 'Avg CTAT',\n",
       " 'Cancelled Rides by Customer',\n",
       " 'Cancelled Rides by Driver',\n",
       " 'Incomplete Rides',\n",
       " 'Booking Value',\n",
       " 'Ride Distance',\n",
       " 'Driver Ratings',\n",
       " 'Customer Rating']"
      ]
     },
     "execution_count": 7,
     "metadata": {},
     "output_type": "execute_result"
    }
   ],
   "source": [
    "numeric_col = [col for col in df.columns if df[col].dtype != 'object']\n",
    "numeric_col\n"
   ]
  },
  {
   "cell_type": "code",
   "execution_count": 8,
   "id": "c74cbf6d",
   "metadata": {
    "execution": {
     "iopub.execute_input": "2025-09-02T06:07:51.267745Z",
     "iopub.status.busy": "2025-09-02T06:07:51.267318Z",
     "iopub.status.idle": "2025-09-02T06:07:54.192758Z",
     "shell.execute_reply": "2025-09-02T06:07:54.191778Z"
    },
    "papermill": {
     "duration": 2.937736,
     "end_time": "2025-09-02T06:07:54.195600",
     "exception": false,
     "start_time": "2025-09-02T06:07:51.257864",
     "status": "completed"
    },
    "tags": []
   },
   "outputs": [
    {
     "data": {
      "text/plain": [
       "<Axes: >"
      ]
     },
     "execution_count": 8,
     "metadata": {},
     "output_type": "execute_result"
    },
    {
     "data": {
      "image/png": "[encoded data removed]",
      "text/plain": [
       "<Figure size 640x480 with 2 Axes>"
      ]
     },
     "metadata": {},
     "output_type": "display_data"
    }
   ],
   "source": [
    "import seaborn as sns\n",
    "\n",
    "sns.heatmap(df[numeric_col].corr())"
   ]
  },
  {
   "cell_type": "code",
   "execution_count": 9,
   "id": "3eb5a8f4",
   "metadata": {
    "execution": {
     "iopub.execute_input": "2025-09-02T06:07:54.214376Z",
     "iopub.status.busy": "2025-09-02T06:07:54.213923Z",
     "iopub.status.idle": "2025-09-02T06:07:54.219554Z",
     "shell.execute_reply": "2025-09-02T06:07:54.217884Z"
    },
    "papermill": {
     "duration": 0.018787,
     "end_time": "2025-09-02T06:07:54.222457",
     "exception": false,
     "start_time": "2025-09-02T06:07:54.203670",
     "status": "completed"
    },
    "tags": []
   },
   "outputs": [],
   "source": [
    "# from this we can assume that booking value depends on factors like ride distance , driver ratings and customer rating\n",
    "# also on vtat and ctat \n",
    "# avg vtat and ctat are linked with each other "
   ]
  },
  {
   "cell_type": "code",
   "execution_count": 10,
   "id": "a010bc33",
   "metadata": {
    "execution": {
     "iopub.execute_input": "2025-09-02T06:07:54.239372Z",
     "iopub.status.busy": "2025-09-02T06:07:54.239069Z",
     "iopub.status.idle": "2025-09-02T06:07:54.246575Z",
     "shell.execute_reply": "2025-09-02T06:07:54.245023Z"
    },
    "papermill": {
     "duration": 0.018108,
     "end_time": "2025-09-02T06:07:54.248587",
     "exception": false,
     "start_time": "2025-09-02T06:07:54.230479",
     "status": "completed"
    },
    "tags": []
   },
   "outputs": [
    {
     "data": {
      "text/plain": [
       "['Avg VTAT',\n",
       " 'Avg CTAT',\n",
       " 'Cancelled Rides by Customer',\n",
       " 'Cancelled Rides by Driver',\n",
       " 'Incomplete Rides',\n",
       " 'Booking Value',\n",
       " 'Ride Distance',\n",
       " 'Driver Ratings',\n",
       " 'Customer Rating']"
      ]
     },
     "execution_count": 10,
     "metadata": {},
     "output_type": "execute_result"
    }
   ],
   "source": [
    "numeric_col = [col for col in df.columns if df[col].dtype != 'object']\n",
    "numeric_col\n"
   ]
  },
  {
   "cell_type": "code",
   "execution_count": 11,
   "id": "4af1b5a5",
   "metadata": {
    "execution": {
     "iopub.execute_input": "2025-09-02T06:07:54.266051Z",
     "iopub.status.busy": "2025-09-02T06:07:54.265729Z",
     "iopub.status.idle": "2025-09-02T06:07:55.397114Z",
     "shell.execute_reply": "2025-09-02T06:07:55.395019Z"
    },
    "papermill": {
     "duration": 1.144009,
     "end_time": "2025-09-02T06:07:55.399879",
     "exception": false,
     "start_time": "2025-09-02T06:07:54.255870",
     "status": "completed"
    },
    "tags": []
   },
   "outputs": [],
   "source": [
    "from sklearn.impute import SimpleImputer\n",
    "imp_mean = SimpleImputer(missing_values=np.nan, strategy='mean')\n",
    "\n",
    "target_columns = [\n",
    "    'Avg VTAT',\n",
    "    'Avg CTAT',\n",
    "    'Booking Value',\n",
    "    'Ride Distance',\n",
    "    'Driver Ratings',\n",
    "    'Customer Rating'\n",
    "]\n",
    "\n",
    "df[target_columns] = imp_mean.fit_transform(df[target_columns])"
   ]
  },
  {
   "cell_type": "code",
   "execution_count": 12,
   "id": "c8e3512e",
   "metadata": {
    "execution": {
     "iopub.execute_input": "2025-09-02T06:07:55.418201Z",
     "iopub.status.busy": "2025-09-02T06:07:55.417672Z",
     "iopub.status.idle": "2025-09-02T06:07:55.529409Z",
     "shell.execute_reply": "2025-09-02T06:07:55.528286Z"
    },
    "papermill": {
     "duration": 0.12312,
     "end_time": "2025-09-02T06:07:55.531311",
     "exception": false,
     "start_time": "2025-09-02T06:07:55.408191",
     "status": "completed"
    },
    "scrolled": true,
    "tags": []
   },
   "outputs": [
    {
     "data": {
      "text/plain": [
       "Date                                      0\n",
       "Time                                      0\n",
       "Booking ID                                0\n",
       "Booking Status                            0\n",
       "Customer ID                               0\n",
       "Vehicle Type                              0\n",
       "Pickup Location                           0\n",
       "Drop Location                             0\n",
       "Avg VTAT                                  0\n",
       "Avg CTAT                                  0\n",
       "Cancelled Rides by Customer          139500\n",
       "Reason for cancelling by Customer    139500\n",
       "Cancelled Rides by Driver            123000\n",
       "Driver Cancellation Reason           123000\n",
       "Incomplete Rides                     141000\n",
       "Incomplete Rides Reason              141000\n",
       "Booking Value                             0\n",
       "Ride Distance                             0\n",
       "Driver Ratings                            0\n",
       "Customer Rating                           0\n",
       "Payment Method                        48000\n",
       "dtype: int64"
      ]
     },
     "execution_count": 12,
     "metadata": {},
     "output_type": "execute_result"
    }
   ],
   "source": [
    "df.isna().sum()"
   ]
  },
  {
   "cell_type": "code",
   "execution_count": 13,
   "id": "842ed84e",
   "metadata": {
    "execution": {
     "iopub.execute_input": "2025-09-02T06:07:55.547460Z",
     "iopub.status.busy": "2025-09-02T06:07:55.547153Z",
     "iopub.status.idle": "2025-09-02T06:07:55.556386Z",
     "shell.execute_reply": "2025-09-02T06:07:55.554345Z"
    },
    "papermill": {
     "duration": 0.020047,
     "end_time": "2025-09-02T06:07:55.558727",
     "exception": false,
     "start_time": "2025-09-02T06:07:55.538680",
     "status": "completed"
    },
    "tags": []
   },
   "outputs": [],
   "source": [
    "df[\"Cancelled Rides by Customer\"] = df[\"Cancelled Rides by Customer\"].replace(np.nan , 0)"
   ]
  },
  {
   "cell_type": "code",
   "execution_count": 14,
   "id": "bccf4bdd",
   "metadata": {
    "execution": {
     "iopub.execute_input": "2025-09-02T06:07:55.575946Z",
     "iopub.status.busy": "2025-09-02T06:07:55.575542Z",
     "iopub.status.idle": "2025-09-02T06:07:55.590840Z",
     "shell.execute_reply": "2025-09-02T06:07:55.589447Z"
    },
    "papermill": {
     "duration": 0.02689,
     "end_time": "2025-09-02T06:07:55.593002",
     "exception": false,
     "start_time": "2025-09-02T06:07:55.566112",
     "status": "completed"
    },
    "tags": []
   },
   "outputs": [
    {
     "data": {
      "text/plain": [
       "Cancelled Rides by Customer\n",
       "0.0    139500\n",
       "1.0     10500\n",
       "Name: count, dtype: int64"
      ]
     },
     "execution_count": 14,
     "metadata": {},
     "output_type": "execute_result"
    }
   ],
   "source": [
    "df[\"Cancelled Rides by Customer\"].value_counts()"
   ]
  },
  {
   "cell_type": "code",
   "execution_count": 15,
   "id": "0bde3703",
   "metadata": {
    "execution": {
     "iopub.execute_input": "2025-09-02T06:07:55.609981Z",
     "iopub.status.busy": "2025-09-02T06:07:55.609605Z",
     "iopub.status.idle": "2025-09-02T06:07:55.622514Z",
     "shell.execute_reply": "2025-09-02T06:07:55.621294Z"
    },
    "papermill": {
     "duration": 0.023444,
     "end_time": "2025-09-02T06:07:55.624295",
     "exception": false,
     "start_time": "2025-09-02T06:07:55.600851",
     "status": "completed"
    },
    "tags": []
   },
   "outputs": [
    {
     "data": {
      "text/plain": [
       "Cancelled Rides by Driver\n",
       "0.0    123000\n",
       "1.0     27000\n",
       "Name: count, dtype: int64"
      ]
     },
     "execution_count": 15,
     "metadata": {},
     "output_type": "execute_result"
    }
   ],
   "source": [
    "df[\"Cancelled Rides by Driver\"] = df[\"Cancelled Rides by Driver\"].replace(np.nan , 0)\n",
    "df[\"Cancelled Rides by Driver\"].value_counts()"
   ]
  },
  {
   "cell_type": "code",
   "execution_count": 16,
   "id": "ce73d605",
   "metadata": {
    "execution": {
     "iopub.execute_input": "2025-09-02T06:07:55.640894Z",
     "iopub.status.busy": "2025-09-02T06:07:55.640504Z",
     "iopub.status.idle": "2025-09-02T06:07:55.652755Z",
     "shell.execute_reply": "2025-09-02T06:07:55.651791Z"
    },
    "papermill": {
     "duration": 0.022565,
     "end_time": "2025-09-02T06:07:55.654524",
     "exception": false,
     "start_time": "2025-09-02T06:07:55.631959",
     "status": "completed"
    },
    "tags": []
   },
   "outputs": [
    {
     "data": {
      "text/plain": [
       "Cancelled Rides by Driver\n",
       "0.0    123000\n",
       "1.0     27000\n",
       "Name: count, dtype: int64"
      ]
     },
     "execution_count": 16,
     "metadata": {},
     "output_type": "execute_result"
    }
   ],
   "source": [
    "df[\"Incomplete Rides\"] = df[\"Incomplete Rides\"].replace(np.nan,0)\n",
    "df[\"Cancelled Rides by Driver\"].value_counts()"
   ]
  },
  {
   "cell_type": "code",
   "execution_count": 17,
   "id": "0843ef8a",
   "metadata": {
    "execution": {
     "iopub.execute_input": "2025-09-02T06:07:55.672931Z",
     "iopub.status.busy": "2025-09-02T06:07:55.671645Z",
     "iopub.status.idle": "2025-09-02T06:07:55.708760Z",
     "shell.execute_reply": "2025-09-02T06:07:55.706981Z"
    },
    "papermill": {
     "duration": 0.048832,
     "end_time": "2025-09-02T06:07:55.711679",
     "exception": false,
     "start_time": "2025-09-02T06:07:55.662847",
     "status": "completed"
    },
    "tags": []
   },
   "outputs": [],
   "source": [
    "from sklearn.impute import SimpleImputer\n",
    "imp_cat = SimpleImputer(strategy='most_frequent')\n",
    "# fit_transform returns 2D array, so flattening it using [:, 0]\n",
    "df[\"Payment Method\"] = imp_cat.fit_transform(df[[\"Payment Method\"]])[:, 0]"
   ]
  },
  {
   "cell_type": "code",
   "execution_count": 18,
   "id": "544fa79f",
   "metadata": {
    "execution": {
     "iopub.execute_input": "2025-09-02T06:07:55.730849Z",
     "iopub.status.busy": "2025-09-02T06:07:55.730482Z",
     "iopub.status.idle": "2025-09-02T06:07:55.840579Z",
     "shell.execute_reply": "2025-09-02T06:07:55.839324Z"
    },
    "papermill": {
     "duration": 0.12226,
     "end_time": "2025-09-02T06:07:55.842849",
     "exception": false,
     "start_time": "2025-09-02T06:07:55.720589",
     "status": "completed"
    },
    "tags": []
   },
   "outputs": [
    {
     "data": {
      "text/plain": [
       "Date                                      0\n",
       "Time                                      0\n",
       "Booking ID                                0\n",
       "Booking Status                            0\n",
       "Customer ID                               0\n",
       "Vehicle Type                              0\n",
       "Pickup Location                           0\n",
       "Drop Location                             0\n",
       "Avg VTAT                                  0\n",
       "Avg CTAT                                  0\n",
       "Cancelled Rides by Customer               0\n",
       "Reason for cancelling by Customer    139500\n",
       "Cancelled Rides by Driver                 0\n",
       "Driver Cancellation Reason           123000\n",
       "Incomplete Rides                          0\n",
       "Incomplete Rides Reason              141000\n",
       "Booking Value                             0\n",
       "Ride Distance                             0\n",
       "Driver Ratings                            0\n",
       "Customer Rating                           0\n",
       "Payment Method                            0\n",
       "dtype: int64"
      ]
     },
     "execution_count": 18,
     "metadata": {},
     "output_type": "execute_result"
    }
   ],
   "source": [
    "df.isna().sum()"
   ]
  },
  {
   "cell_type": "code",
   "execution_count": 19,
   "id": "9acf8bec",
   "metadata": {
    "execution": {
     "iopub.execute_input": "2025-09-02T06:07:55.863550Z",
     "iopub.status.busy": "2025-09-02T06:07:55.863189Z",
     "iopub.status.idle": "2025-09-02T06:07:55.884560Z",
     "shell.execute_reply": "2025-09-02T06:07:55.883288Z"
    },
    "papermill": {
     "duration": 0.034711,
     "end_time": "2025-09-02T06:07:55.886868",
     "exception": false,
     "start_time": "2025-09-02T06:07:55.852157",
     "status": "completed"
    },
    "tags": []
   },
   "outputs": [],
   "source": [
    "df[\"Reason for cancelling by Customer\"].value_counts()\n",
    "df['Reason for cancelling by Customer'].fillna('Unknown', inplace=True)"
   ]
  },
  {
   "cell_type": "code",
   "execution_count": 20,
   "id": "a3145d43",
   "metadata": {
    "execution": {
     "iopub.execute_input": "2025-09-02T06:07:55.903783Z",
     "iopub.status.busy": "2025-09-02T06:07:55.903449Z",
     "iopub.status.idle": "2025-09-02T06:07:55.924432Z",
     "shell.execute_reply": "2025-09-02T06:07:55.923186Z"
    },
    "papermill": {
     "duration": 0.031559,
     "end_time": "2025-09-02T06:07:55.926451",
     "exception": false,
     "start_time": "2025-09-02T06:07:55.894892",
     "status": "completed"
    },
    "tags": []
   },
   "outputs": [],
   "source": [
    "df[\"Driver Cancellation Reason\"].value_counts()\n",
    "df[\"Driver Cancellation Reason\"].fillna('Unknown', inplace=True)"
   ]
  },
  {
   "cell_type": "code",
   "execution_count": 21,
   "id": "22adc8ec",
   "metadata": {
    "execution": {
     "iopub.execute_input": "2025-09-02T06:07:55.944251Z",
     "iopub.status.busy": "2025-09-02T06:07:55.943899Z",
     "iopub.status.idle": "2025-09-02T06:07:55.962609Z",
     "shell.execute_reply": "2025-09-02T06:07:55.961596Z"
    },
    "papermill": {
     "duration": 0.029306,
     "end_time": "2025-09-02T06:07:55.964321",
     "exception": false,
     "start_time": "2025-09-02T06:07:55.935015",
     "status": "completed"
    },
    "tags": []
   },
   "outputs": [],
   "source": [
    "df[\"Incomplete Rides Reason\"].value_counts()\n",
    "df['Incomplete Rides Reason'].fillna('Unknown', inplace=True)"
   ]
  },
  {
   "cell_type": "code",
   "execution_count": 22,
   "id": "93103e00",
   "metadata": {
    "execution": {
     "iopub.execute_input": "2025-09-02T06:07:55.981257Z",
     "iopub.status.busy": "2025-09-02T06:07:55.980936Z",
     "iopub.status.idle": "2025-09-02T06:07:56.096742Z",
     "shell.execute_reply": "2025-09-02T06:07:56.095286Z"
    },
    "papermill": {
     "duration": 0.126284,
     "end_time": "2025-09-02T06:07:56.098530",
     "exception": false,
     "start_time": "2025-09-02T06:07:55.972246",
     "status": "completed"
    },
    "tags": []
   },
   "outputs": [
    {
     "data": {
      "text/plain": [
       "Date                                 0\n",
       "Time                                 0\n",
       "Booking ID                           0\n",
       "Booking Status                       0\n",
       "Customer ID                          0\n",
       "Vehicle Type                         0\n",
       "Pickup Location                      0\n",
       "Drop Location                        0\n",
       "Avg VTAT                             0\n",
       "Avg CTAT                             0\n",
       "Cancelled Rides by Customer          0\n",
       "Reason for cancelling by Customer    0\n",
       "Cancelled Rides by Driver            0\n",
       "Driver Cancellation Reason           0\n",
       "Incomplete Rides                     0\n",
       "Incomplete Rides Reason              0\n",
       "Booking Value                        0\n",
       "Ride Distance                        0\n",
       "Driver Ratings                       0\n",
       "Customer Rating                      0\n",
       "Payment Method                       0\n",
       "dtype: int64"
      ]
     },
     "execution_count": 22,
     "metadata": {},
     "output_type": "execute_result"
    }
   ],
   "source": [
    "df.isna().sum()"
   ]
  },
  {
   "cell_type": "code",
   "execution_count": 23,
   "id": "cf4afeb2",
   "metadata": {
    "execution": {
     "iopub.execute_input": "2025-09-02T06:07:56.117268Z",
     "iopub.status.busy": "2025-09-02T06:07:56.116852Z",
     "iopub.status.idle": "2025-09-02T06:07:56.233208Z",
     "shell.execute_reply": "2025-09-02T06:07:56.232162Z"
    },
    "papermill": {
     "duration": 0.127318,
     "end_time": "2025-09-02T06:07:56.234842",
     "exception": false,
     "start_time": "2025-09-02T06:07:56.107524",
     "status": "completed"
    },
    "tags": []
   },
   "outputs": [
    {
     "data": {
      "text/html": [
       "<div>\n",
       "<style scoped>\n",
       "    .dataframe tbody tr th:only-of-type {\n",
       "        vertical-align: middle;\n",
       "    }\n",
       "\n",
       "    .dataframe tbody tr th {\n",
       "        vertical-align: top;\n",
       "    }\n",
       "\n",
       "    .dataframe thead th {\n",
       "        text-align: right;\n",
       "    }\n",
       "</style>\n",
       "<table border=\"1\" class=\"dataframe\">\n",
       "  <thead>\n",
       "    <tr style=\"text-align: right;\">\n",
       "      <th></th>\n",
       "      <th>Avg VTAT</th>\n",
       "      <th>Avg CTAT</th>\n",
       "      <th>Cancelled Rides by Customer</th>\n",
       "      <th>Cancelled Rides by Driver</th>\n",
       "      <th>Incomplete Rides</th>\n",
       "      <th>Booking Value</th>\n",
       "      <th>Ride Distance</th>\n",
       "      <th>Driver Ratings</th>\n",
       "      <th>Customer Rating</th>\n",
       "    </tr>\n",
       "  </thead>\n",
       "  <tbody>\n",
       "    <tr>\n",
       "      <th>count</th>\n",
       "      <td>150000.000000</td>\n",
       "      <td>150000.000000</td>\n",
       "      <td>150000.000000</td>\n",
       "      <td>150000.000000</td>\n",
       "      <td>150000.000000</td>\n",
       "      <td>150000.000000</td>\n",
       "      <td>150000.000000</td>\n",
       "      <td>150000.000000</td>\n",
       "      <td>150000.000000</td>\n",
       "    </tr>\n",
       "    <tr>\n",
       "      <th>mean</th>\n",
       "      <td>8.456352</td>\n",
       "      <td>29.149636</td>\n",
       "      <td>0.070000</td>\n",
       "      <td>0.180000</td>\n",
       "      <td>0.060000</td>\n",
       "      <td>508.295912</td>\n",
       "      <td>24.637012</td>\n",
       "      <td>4.230992</td>\n",
       "      <td>4.404584</td>\n",
       "    </tr>\n",
       "    <tr>\n",
       "      <th>std</th>\n",
       "      <td>3.639092</td>\n",
       "      <td>7.341242</td>\n",
       "      <td>0.255148</td>\n",
       "      <td>0.384189</td>\n",
       "      <td>0.237488</td>\n",
       "      <td>326.389291</td>\n",
       "      <td>11.546441</td>\n",
       "      <td>0.343992</td>\n",
       "      <td>0.344738</td>\n",
       "    </tr>\n",
       "    <tr>\n",
       "      <th>min</th>\n",
       "      <td>2.000000</td>\n",
       "      <td>10.000000</td>\n",
       "      <td>0.000000</td>\n",
       "      <td>0.000000</td>\n",
       "      <td>0.000000</td>\n",
       "      <td>50.000000</td>\n",
       "      <td>1.000000</td>\n",
       "      <td>3.000000</td>\n",
       "      <td>3.000000</td>\n",
       "    </tr>\n",
       "    <tr>\n",
       "      <th>25%</th>\n",
       "      <td>5.600000</td>\n",
       "      <td>25.000000</td>\n",
       "      <td>0.000000</td>\n",
       "      <td>0.000000</td>\n",
       "      <td>0.000000</td>\n",
       "      <td>319.750000</td>\n",
       "      <td>17.360000</td>\n",
       "      <td>4.200000</td>\n",
       "      <td>4.300000</td>\n",
       "    </tr>\n",
       "    <tr>\n",
       "      <th>50%</th>\n",
       "      <td>8.456352</td>\n",
       "      <td>29.149636</td>\n",
       "      <td>0.000000</td>\n",
       "      <td>0.000000</td>\n",
       "      <td>0.000000</td>\n",
       "      <td>508.295912</td>\n",
       "      <td>24.637012</td>\n",
       "      <td>4.230992</td>\n",
       "      <td>4.404584</td>\n",
       "    </tr>\n",
       "    <tr>\n",
       "      <th>75%</th>\n",
       "      <td>11.000000</td>\n",
       "      <td>32.900000</td>\n",
       "      <td>0.000000</td>\n",
       "      <td>0.000000</td>\n",
       "      <td>0.000000</td>\n",
       "      <td>521.000000</td>\n",
       "      <td>30.650000</td>\n",
       "      <td>4.300000</td>\n",
       "      <td>4.600000</td>\n",
       "    </tr>\n",
       "    <tr>\n",
       "      <th>max</th>\n",
       "      <td>20.000000</td>\n",
       "      <td>45.000000</td>\n",
       "      <td>1.000000</td>\n",
       "      <td>1.000000</td>\n",
       "      <td>1.000000</td>\n",
       "      <td>4277.000000</td>\n",
       "      <td>50.000000</td>\n",
       "      <td>5.000000</td>\n",
       "      <td>5.000000</td>\n",
       "    </tr>\n",
       "  </tbody>\n",
       "</table>\n",
       "</div>"
      ],
      "text/plain": [
       "            Avg VTAT       Avg CTAT  Cancelled Rides by Customer  \\\n",
       "count  150000.000000  150000.000000                150000.000000   \n",
       "mean        8.456352      29.149636                     0.070000   \n",
       "std         3.639092       7.341242                     0.255148   \n",
       "min         2.000000      10.000000                     0.000000   \n",
       "25%         5.600000      25.000000                     0.000000   \n",
       "50%         8.456352      29.149636                     0.000000   \n",
       "75%        11.000000      32.900000                     0.000000   \n",
       "max        20.000000      45.000000                     1.000000   \n",
       "\n",
       "       Cancelled Rides by Driver  Incomplete Rides  Booking Value  \\\n",
       "count              150000.000000     150000.000000  150000.000000   \n",
       "mean                    0.180000          0.060000     508.295912   \n",
       "std                     0.384189          0.237488     326.389291   \n",
       "min                     0.000000          0.000000      50.000000   \n",
       "25%                     0.000000          0.000000     319.750000   \n",
       "50%                     0.000000          0.000000     508.295912   \n",
       "75%                     0.000000          0.000000     521.000000   \n",
       "max                     1.000000          1.000000    4277.000000   \n",
       "\n",
       "       Ride Distance  Driver Ratings  Customer Rating  \n",
       "count  150000.000000   150000.000000    150000.000000  \n",
       "mean       24.637012        4.230992         4.404584  \n",
       "std        11.546441        0.343992         0.344738  \n",
       "min         1.000000        3.000000         3.000000  \n",
       "25%        17.360000        4.200000         4.300000  \n",
       "50%        24.637012        4.230992         4.404584  \n",
       "75%        30.650000        4.300000         4.600000  \n",
       "max        50.000000        5.000000         5.000000  "
      ]
     },
     "execution_count": 23,
     "metadata": {},
     "output_type": "execute_result"
    }
   ],
   "source": [
    "df.describe()"
   ]
  },
  {
   "cell_type": "code",
   "execution_count": 24,
   "id": "de98e1ec",
   "metadata": {
    "execution": {
     "iopub.execute_input": "2025-09-02T06:07:56.255021Z",
     "iopub.status.busy": "2025-09-02T06:07:56.253789Z",
     "iopub.status.idle": "2025-09-02T06:07:56.372455Z",
     "shell.execute_reply": "2025-09-02T06:07:56.371018Z"
    },
    "papermill": {
     "duration": 0.130219,
     "end_time": "2025-09-02T06:07:56.374575",
     "exception": false,
     "start_time": "2025-09-02T06:07:56.244356",
     "status": "completed"
    },
    "tags": []
   },
   "outputs": [
    {
     "name": "stdout",
     "output_type": "stream",
     "text": [
      "<class 'pandas.core.frame.DataFrame'>\n",
      "RangeIndex: 150000 entries, 0 to 149999\n",
      "Data columns (total 21 columns):\n",
      " #   Column                             Non-Null Count   Dtype  \n",
      "---  ------                             --------------   -----  \n",
      " 0   Date                               150000 non-null  object \n",
      " 1   Time                               150000 non-null  object \n",
      " 2   Booking ID                         150000 non-null  object \n",
      " 3   Booking Status                     150000 non-null  object \n",
      " 4   Customer ID                        150000 non-null  object \n",
      " 5   Vehicle Type                       150000 non-null  object \n",
      " 6   Pickup Location                    150000 non-null  object \n",
      " 7   Drop Location                      150000 non-null  object \n",
      " 8   Avg VTAT                           150000 non-null  float64\n",
      " 9   Avg CTAT                           150000 non-null  float64\n",
      " 10  Cancelled Rides by Customer        150000 non-null  float64\n",
      " 11  Reason for cancelling by Customer  150000 non-null  object \n",
      " 12  Cancelled Rides by Driver          150000 non-null  float64\n",
      " 13  Driver Cancellation Reason         150000 non-null  object \n",
      " 14  Incomplete Rides                   150000 non-null  float64\n",
      " 15  Incomplete Rides Reason            150000 non-null  object \n",
      " 16  Booking Value                      150000 non-null  float64\n",
      " 17  Ride Distance                      150000 non-null  float64\n",
      " 18  Driver Ratings                     150000 non-null  float64\n",
      " 19  Customer Rating                    150000 non-null  float64\n",
      " 20  Payment Method                     150000 non-null  object \n",
      "dtypes: float64(9), object(12)\n",
      "memory usage: 24.0+ MB\n"
     ]
    }
   ],
   "source": [
    "df.info()"
   ]
  },
  {
   "cell_type": "code",
   "execution_count": 25,
   "id": "4ac2099d",
   "metadata": {
    "execution": {
     "iopub.execute_input": "2025-09-02T06:07:56.392934Z",
     "iopub.status.busy": "2025-09-02T06:07:56.392573Z",
     "iopub.status.idle": "2025-09-02T06:07:57.322469Z",
     "shell.execute_reply": "2025-09-02T06:07:57.318126Z"
    },
    "papermill": {
     "duration": 0.942175,
     "end_time": "2025-09-02T06:07:57.325315",
     "exception": false,
     "start_time": "2025-09-02T06:07:56.383140",
     "status": "completed"
    },
    "tags": []
   },
   "outputs": [],
   "source": [
    "# If Date and Time are separate columns\n",
    "df['Date'] = pd.to_datetime(df['Date'], format='%Y-%m-%d', errors='coerce')\n",
    "df['Time'] = pd.to_datetime(df['Time'], format='%H:%M:%S', errors='coerce').dt.time\n",
    "\n",
    "# Combine Date and Time into a single datetime column (optional)\n",
    "df['DateTime'] = pd.to_datetime(df['Date'].astype(str) + ' ' + df['Time'].astype(str))"
   ]
  },
  {
   "cell_type": "code",
   "execution_count": 26,
   "id": "60bebea6",
   "metadata": {
    "execution": {
     "iopub.execute_input": "2025-09-02T06:07:57.351091Z",
     "iopub.status.busy": "2025-09-02T06:07:57.349856Z",
     "iopub.status.idle": "2025-09-02T06:07:57.383628Z",
     "shell.execute_reply": "2025-09-02T06:07:57.382309Z"
    },
    "papermill": {
     "duration": 0.049986,
     "end_time": "2025-09-02T06:07:57.385460",
     "exception": false,
     "start_time": "2025-09-02T06:07:57.335474",
     "status": "completed"
    },
    "tags": []
   },
   "outputs": [],
   "source": [
    "df[\"Booking Status\"].unique()\n",
    "\n",
    "df[\"Booking Status\"] = df[\"Booking Status\"].map({\n",
    "                                                    'No Driver Found' : 0,\n",
    "                                                    'Incomplete':1,\n",
    "                                                    'Completed':2,\n",
    "                                                    'Cancelled by Driver':3,\n",
    "                                                    'Cancelled by Customer':4\n",
    "                                                })"
   ]
  },
  {
   "cell_type": "code",
   "execution_count": 27,
   "id": "fc90fc98",
   "metadata": {
    "execution": {
     "iopub.execute_input": "2025-09-02T06:07:57.410064Z",
     "iopub.status.busy": "2025-09-02T06:07:57.409187Z",
     "iopub.status.idle": "2025-09-02T06:07:57.429434Z",
     "shell.execute_reply": "2025-09-02T06:07:57.428187Z"
    },
    "papermill": {
     "duration": 0.03655,
     "end_time": "2025-09-02T06:07:57.431366",
     "exception": false,
     "start_time": "2025-09-02T06:07:57.394816",
     "status": "completed"
    },
    "tags": []
   },
   "outputs": [
    {
     "data": {
      "text/plain": [
       "array(['eBike', 'Go Sedan', 'Auto', 'Premier Sedan', 'Bike', 'Go Mini',\n",
       "       'Uber XL'], dtype=object)"
      ]
     },
     "execution_count": 27,
     "metadata": {},
     "output_type": "execute_result"
    }
   ],
   "source": [
    "df[\"Vehicle Type\"].unique()"
   ]
  },
  {
   "cell_type": "code",
   "execution_count": 28,
   "id": "ef6aa9d5",
   "metadata": {
    "execution": {
     "iopub.execute_input": "2025-09-02T06:07:57.452757Z",
     "iopub.status.busy": "2025-09-02T06:07:57.452393Z",
     "iopub.status.idle": "2025-09-02T06:07:57.476947Z",
     "shell.execute_reply": "2025-09-02T06:07:57.474478Z"
    },
    "papermill": {
     "duration": 0.038299,
     "end_time": "2025-09-02T06:07:57.479604",
     "exception": false,
     "start_time": "2025-09-02T06:07:57.441305",
     "status": "completed"
    },
    "tags": []
   },
   "outputs": [],
   "source": [
    "df[\"Vehicle Type\"] = df[\"Vehicle Type\"].map({\n",
    "                                                    'eBike' : 0,\n",
    "                                                    'Go Sedan':1,\n",
    "                                                    'Auto':2,\n",
    "                                                    'Premier Sedan':3,\n",
    "                                                    'Bike':4,\n",
    "                                                    'Go Mini':5,\n",
    "                                                    'Uber XL':6\n",
    "                                                })"
   ]
  },
  {
   "cell_type": "code",
   "execution_count": 29,
   "id": "8f07509c",
   "metadata": {
    "execution": {
     "iopub.execute_input": "2025-09-02T06:07:57.501163Z",
     "iopub.status.busy": "2025-09-02T06:07:57.500781Z",
     "iopub.status.idle": "2025-09-02T06:07:57.534957Z",
     "shell.execute_reply": "2025-09-02T06:07:57.533227Z"
    },
    "papermill": {
     "duration": 0.046954,
     "end_time": "2025-09-02T06:07:57.537275",
     "exception": false,
     "start_time": "2025-09-02T06:07:57.490321",
     "status": "completed"
    },
    "tags": []
   },
   "outputs": [],
   "source": [
    "df['Payment Method'].unique()\n",
    "df[\"Payment Method\"] = df[\"Payment Method\"].map({\n",
    "                                                    'UPI' : 0,\n",
    "                                                    'Debit Card':1,\n",
    "                                                    'Cash':2,\n",
    "                                                    'Uber Wallet':3,\n",
    "                                                    'Credit Card':4,\n",
    "                                                })"
   ]
  },
  {
   "cell_type": "code",
   "execution_count": 30,
   "id": "93655b07",
   "metadata": {
    "execution": {
     "iopub.execute_input": "2025-09-02T06:07:57.568389Z",
     "iopub.status.busy": "2025-09-02T06:07:57.568018Z",
     "iopub.status.idle": "2025-09-02T06:07:57.593864Z",
     "shell.execute_reply": "2025-09-02T06:07:57.592079Z"
    },
    "papermill": {
     "duration": 0.048034,
     "end_time": "2025-09-02T06:07:57.596568",
     "exception": false,
     "start_time": "2025-09-02T06:07:57.548534",
     "status": "completed"
    },
    "tags": []
   },
   "outputs": [],
   "source": [
    "df['Reason for cancelling by Customer'].unique()\n",
    "\n",
    "df[\"Reason for cancelling by Customer\"] = df[\"Reason for cancelling by Customer\"].map({\n",
    "                                                    'Unknown' : 0,\n",
    "                                                    'Driver is not moving towards pickup location':1,\n",
    "                                                    'AC is not working':2,\n",
    "                                                    'Change of plans':3,\n",
    "                                                    'Wrong Address':4,\n",
    "                                                })"
   ]
  },
  {
   "cell_type": "code",
   "execution_count": 31,
   "id": "26307037",
   "metadata": {
    "execution": {
     "iopub.execute_input": "2025-09-02T06:07:57.622496Z",
     "iopub.status.busy": "2025-09-02T06:07:57.621530Z",
     "iopub.status.idle": "2025-09-02T06:07:57.654455Z",
     "shell.execute_reply": "2025-09-02T06:07:57.652946Z"
    },
    "papermill": {
     "duration": 0.048445,
     "end_time": "2025-09-02T06:07:57.657106",
     "exception": false,
     "start_time": "2025-09-02T06:07:57.608661",
     "status": "completed"
    },
    "tags": []
   },
   "outputs": [],
   "source": [
    "df['Driver Cancellation Reason'].unique()\n",
    "\n",
    "df[\"Driver Cancellation Reason\"] = df[\"Driver Cancellation Reason\"].map({\n",
    "                                                    'Unknown' : 0,\n",
    "                                                    'Personal & Car related issues':1,\n",
    "                                                    'Customer related issue':2,\n",
    "                                                    'More than permitted people in there':3,\n",
    "                                                    'The customer was coughing/sick':4,\n",
    "                                                })"
   ]
  },
  {
   "cell_type": "code",
   "execution_count": 32,
   "id": "c5d188b4",
   "metadata": {
    "execution": {
     "iopub.execute_input": "2025-09-02T06:07:57.752456Z",
     "iopub.status.busy": "2025-09-02T06:07:57.751214Z",
     "iopub.status.idle": "2025-09-02T06:07:57.776291Z",
     "shell.execute_reply": "2025-09-02T06:07:57.774919Z"
    },
    "papermill": {
     "duration": 0.037537,
     "end_time": "2025-09-02T06:07:57.778579",
     "exception": false,
     "start_time": "2025-09-02T06:07:57.741042",
     "status": "completed"
    },
    "tags": []
   },
   "outputs": [],
   "source": [
    "df['Incomplete Rides Reason'].unique()\n",
    "\n",
    "\n",
    "df['Incomplete Rides Reason'] = df['Incomplete Rides Reason'].map({\n",
    "                                                    'Unknown' : 0,\n",
    "                                                    'Vehicle Breakdown':1,\n",
    "                                                    'Customer Demand':2,\n",
    "                                                })"
   ]
  },
  {
   "cell_type": "code",
   "execution_count": 33,
   "id": "639398ce",
   "metadata": {
    "execution": {
     "iopub.execute_input": "2025-09-02T06:07:57.802988Z",
     "iopub.status.busy": "2025-09-02T06:07:57.801435Z",
     "iopub.status.idle": "2025-09-02T06:07:57.886586Z",
     "shell.execute_reply": "2025-09-02T06:07:57.885276Z"
    },
    "papermill": {
     "duration": 0.119466,
     "end_time": "2025-09-02T06:07:57.909820",
     "exception": false,
     "start_time": "2025-09-02T06:07:57.790354",
     "status": "completed"
    },
    "tags": []
   },
   "outputs": [
    {
     "name": "stdout",
     "output_type": "stream",
     "text": [
      "<class 'pandas.core.frame.DataFrame'>\n",
      "RangeIndex: 150000 entries, 0 to 149999\n",
      "Data columns (total 22 columns):\n",
      " #   Column                             Non-Null Count   Dtype         \n",
      "---  ------                             --------------   -----         \n",
      " 0   Date                               150000 non-null  datetime64[ns]\n",
      " 1   Time                               150000 non-null  object        \n",
      " 2   Booking ID                         150000 non-null  object        \n",
      " 3   Booking Status                     150000 non-null  int64         \n",
      " 4   Customer ID                        150000 non-null  object        \n",
      " 5   Vehicle Type                       150000 non-null  int64         \n",
      " 6   Pickup Location                    150000 non-null  object        \n",
      " 7   Drop Location                      150000 non-null  object        \n",
      " 8   Avg VTAT                           150000 non-null  float64       \n",
      " 9   Avg CTAT                           150000 non-null  float64       \n",
      " 10  Cancelled Rides by Customer        150000 non-null  float64       \n",
      " 11  Reason for cancelling by Customer  147705 non-null  float64       \n",
      " 12  Cancelled Rides by Driver          150000 non-null  float64       \n",
      " 13  Driver Cancellation Reason         150000 non-null  int64         \n",
      " 14  Incomplete Rides                   150000 non-null  float64       \n",
      " 15  Incomplete Rides Reason            147052 non-null  float64       \n",
      " 16  Booking Value                      150000 non-null  float64       \n",
      " 17  Ride Distance                      150000 non-null  float64       \n",
      " 18  Driver Ratings                     150000 non-null  float64       \n",
      " 19  Customer Rating                    150000 non-null  float64       \n",
      " 20  Payment Method                     150000 non-null  int64         \n",
      " 21  DateTime                           150000 non-null  datetime64[ns]\n",
      "dtypes: datetime64[ns](2), float64(11), int64(4), object(5)\n",
      "memory usage: 25.2+ MB\n"
     ]
    }
   ],
   "source": [
    "df.info()"
   ]
  },
  {
   "cell_type": "code",
   "execution_count": 34,
   "id": "38295640",
   "metadata": {
    "execution": {
     "iopub.execute_input": "2025-09-02T06:07:57.935534Z",
     "iopub.status.busy": "2025-09-02T06:07:57.935188Z",
     "iopub.status.idle": "2025-09-02T06:07:57.941777Z",
     "shell.execute_reply": "2025-09-02T06:07:57.940092Z"
    },
    "papermill": {
     "duration": 0.02201,
     "end_time": "2025-09-02T06:07:57.945180",
     "exception": false,
     "start_time": "2025-09-02T06:07:57.923170",
     "status": "completed"
    },
    "tags": []
   },
   "outputs": [],
   "source": [
    "# leaving location columns and ids(remove them if using ml models)\n",
    "# use normalization techniques like standard scaler and minmax scaler according to the need & train test split \n",
    "# you can use label , ordinal encoder too for encoding but i choosed custom encoding for the object types "
   ]
  },
  {
   "cell_type": "code",
   "execution_count": 35,
   "id": "51f9d332",
   "metadata": {
    "execution": {
     "iopub.execute_input": "2025-09-02T06:07:57.968768Z",
     "iopub.status.busy": "2025-09-02T06:07:57.968324Z",
     "iopub.status.idle": "2025-09-02T06:07:57.974023Z",
     "shell.execute_reply": "2025-09-02T06:07:57.972715Z"
    },
    "papermill": {
     "duration": 0.019705,
     "end_time": "2025-09-02T06:07:57.976881",
     "exception": false,
     "start_time": "2025-09-02T06:07:57.957176",
     "status": "completed"
    },
    "tags": []
   },
   "outputs": [],
   "source": [
    "# final df "
   ]
  },
  {
   "cell_type": "code",
   "execution_count": 36,
   "id": "e0685aac",
   "metadata": {
    "execution": {
     "iopub.execute_input": "2025-09-02T06:07:57.998578Z",
     "iopub.status.busy": "2025-09-02T06:07:57.998211Z",
     "iopub.status.idle": "2025-09-02T06:07:58.029333Z",
     "shell.execute_reply": "2025-09-02T06:07:58.027794Z"
    },
    "papermill": {
     "duration": 0.044077,
     "end_time": "2025-09-02T06:07:58.031289",
     "exception": false,
     "start_time": "2025-09-02T06:07:57.987212",
     "status": "completed"
    },
    "tags": []
   },
   "outputs": [
    {
     "data": {
      "text/html": [
       "<div>\n",
       "<style scoped>\n",
       "    .dataframe tbody tr th:only-of-type {\n",
       "        vertical-align: middle;\n",
       "    }\n",
       "\n",
       "    .dataframe tbody tr th {\n",
       "        vertical-align: top;\n",
       "    }\n",
       "\n",
       "    .dataframe thead th {\n",
       "        text-align: right;\n",
       "    }\n",
       "</style>\n",
       "<table border=\"1\" class=\"dataframe\">\n",
       "  <thead>\n",
       "    <tr style=\"text-align: right;\">\n",
       "      <th></th>\n",
       "      <th>Date</th>\n",
       "      <th>Time</th>\n",
       "      <th>Booking ID</th>\n",
       "      <th>Booking Status</th>\n",
       "      <th>Customer ID</th>\n",
       "      <th>Vehicle Type</th>\n",
       "      <th>Pickup Location</th>\n",
       "      <th>Drop Location</th>\n",
       "      <th>Avg VTAT</th>\n",
       "      <th>Avg CTAT</th>\n",
       "      <th>...</th>\n",
       "      <th>Cancelled Rides by Driver</th>\n",
       "      <th>Driver Cancellation Reason</th>\n",
       "      <th>Incomplete Rides</th>\n",
       "      <th>Incomplete Rides Reason</th>\n",
       "      <th>Booking Value</th>\n",
       "      <th>Ride Distance</th>\n",
       "      <th>Driver Ratings</th>\n",
       "      <th>Customer Rating</th>\n",
       "      <th>Payment Method</th>\n",
       "      <th>DateTime</th>\n",
       "    </tr>\n",
       "  </thead>\n",
       "  <tbody>\n",
       "    <tr>\n",
       "      <th>0</th>\n",
       "      <td>2024-03-23</td>\n",
       "      <td>12:29:38</td>\n",
       "      <td>\"CNR5884300\"</td>\n",
       "      <td>0</td>\n",
       "      <td>\"CID1982111\"</td>\n",
       "      <td>0</td>\n",
       "      <td>Palam Vihar</td>\n",
       "      <td>Jhilmil</td>\n",
       "      <td>8.456352</td>\n",
       "      <td>29.149636</td>\n",
       "      <td>...</td>\n",
       "      <td>0.0</td>\n",
       "      <td>0</td>\n",
       "      <td>0.0</td>\n",
       "      <td>0.0</td>\n",
       "      <td>508.295912</td>\n",
       "      <td>24.637012</td>\n",
       "      <td>4.230992</td>\n",
       "      <td>4.404584</td>\n",
       "      <td>0</td>\n",
       "      <td>2024-03-23 12:29:38</td>\n",
       "    </tr>\n",
       "    <tr>\n",
       "      <th>1</th>\n",
       "      <td>2024-11-29</td>\n",
       "      <td>18:01:39</td>\n",
       "      <td>\"CNR1326809\"</td>\n",
       "      <td>1</td>\n",
       "      <td>\"CID4604802\"</td>\n",
       "      <td>1</td>\n",
       "      <td>Shastri Nagar</td>\n",
       "      <td>Gurgaon Sector 56</td>\n",
       "      <td>4.900000</td>\n",
       "      <td>14.000000</td>\n",
       "      <td>...</td>\n",
       "      <td>0.0</td>\n",
       "      <td>0</td>\n",
       "      <td>1.0</td>\n",
       "      <td>1.0</td>\n",
       "      <td>237.000000</td>\n",
       "      <td>5.730000</td>\n",
       "      <td>4.230992</td>\n",
       "      <td>4.404584</td>\n",
       "      <td>0</td>\n",
       "      <td>2024-11-29 18:01:39</td>\n",
       "    </tr>\n",
       "    <tr>\n",
       "      <th>2</th>\n",
       "      <td>2024-08-23</td>\n",
       "      <td>08:56:10</td>\n",
       "      <td>\"CNR8494506\"</td>\n",
       "      <td>2</td>\n",
       "      <td>\"CID9202816\"</td>\n",
       "      <td>2</td>\n",
       "      <td>Khandsa</td>\n",
       "      <td>Malviya Nagar</td>\n",
       "      <td>13.400000</td>\n",
       "      <td>25.800000</td>\n",
       "      <td>...</td>\n",
       "      <td>0.0</td>\n",
       "      <td>0</td>\n",
       "      <td>0.0</td>\n",
       "      <td>0.0</td>\n",
       "      <td>627.000000</td>\n",
       "      <td>13.580000</td>\n",
       "      <td>4.900000</td>\n",
       "      <td>4.900000</td>\n",
       "      <td>1</td>\n",
       "      <td>2024-08-23 08:56:10</td>\n",
       "    </tr>\n",
       "  </tbody>\n",
       "</table>\n",
       "<p>3 rows × 22 columns</p>\n",
       "</div>"
      ],
      "text/plain": [
       "        Date      Time    Booking ID  Booking Status   Customer ID  \\\n",
       "0 2024-03-23  12:29:38  \"CNR5884300\"               0  \"CID1982111\"   \n",
       "1 2024-11-29  18:01:39  \"CNR1326809\"               1  \"CID4604802\"   \n",
       "2 2024-08-23  08:56:10  \"CNR8494506\"               2  \"CID9202816\"   \n",
       "\n",
       "   Vehicle Type Pickup Location      Drop Location   Avg VTAT   Avg CTAT  ...  \\\n",
       "0             0     Palam Vihar            Jhilmil   8.456352  29.149636  ...   \n",
       "1             1   Shastri Nagar  Gurgaon Sector 56   4.900000  14.000000  ...   \n",
       "2             2         Khandsa      Malviya Nagar  13.400000  25.800000  ...   \n",
       "\n",
       "   Cancelled Rides by Driver  Driver Cancellation Reason  Incomplete Rides  \\\n",
       "0                        0.0                           0               0.0   \n",
       "1                        0.0                           0               1.0   \n",
       "2                        0.0                           0               0.0   \n",
       "\n",
       "   Incomplete Rides Reason  Booking Value  Ride Distance  Driver Ratings  \\\n",
       "0                      0.0     508.295912      24.637012        4.230992   \n",
       "1                      1.0     237.000000       5.730000        4.230992   \n",
       "2                      0.0     627.000000      13.580000        4.900000   \n",
       "\n",
       "   Customer Rating  Payment Method            DateTime  \n",
       "0         4.404584               0 2024-03-23 12:29:38  \n",
       "1         4.404584               0 2024-11-29 18:01:39  \n",
       "2         4.900000               1 2024-08-23 08:56:10  \n",
       "\n",
       "[3 rows x 22 columns]"
      ]
     },
     "execution_count": 36,
     "metadata": {},
     "output_type": "execute_result"
    }
   ],
   "source": [
    "df.head(3)"
   ]
  },
  {
   "cell_type": "code",
   "execution_count": 37,
   "id": "5d4c714e",
   "metadata": {
    "execution": {
     "iopub.execute_input": "2025-09-02T06:07:58.053234Z",
     "iopub.status.busy": "2025-09-02T06:07:58.052881Z",
     "iopub.status.idle": "2025-09-02T06:07:58.059649Z",
     "shell.execute_reply": "2025-09-02T06:07:58.057394Z"
    },
    "papermill": {
     "duration": 0.021366,
     "end_time": "2025-09-02T06:07:58.061985",
     "exception": false,
     "start_time": "2025-09-02T06:07:58.040619",
     "status": "completed"
    },
    "tags": []
   },
   "outputs": [],
   "source": [
    "# df.to_csv('name of the file',index = True / False)  for saving the dataframe in csv format "
   ]
  }
 ],
 "metadata": {
  "kaggle": {
   "accelerator": "none",
   "dataSources": [
    {
     "datasetId": 8032385,
     "sourceId": 12709507,
     "sourceType": "datasetVersion"
    }
   ],
   "dockerImageVersionId": 31089,
   "isGpuEnabled": false,
   "isInternetEnabled": true,
   "language": "python",
   "sourceType": "notebook"
  },
  "kernelspec": {
   "display_name": "Python 3",
   "language": "python",
   "name": "python3"
  },
  "language_info": {
   "codemirror_mode": {
    "name": "ipython",
    "version": 3
   },
   "file_extension": ".py",
   "mimetype": "text/x-python",
   "name": "python",
   "nbconvert_exporter": "python",
   "pygments_lexer": "ipython3",
   "version": "3.11.13"
  },
  "papermill": {
   "default_parameters": {},
   "duration": 17.851858,
   "end_time": "2025-09-02T06:07:59.005471",
   "environment_variables": {},
   "exception": null,
   "input_path": "__notebook__.ipynb",
   "output_path": "__notebook__.ipynb",
   "parameters": {},
   "start_time": "2025-09-02T06:07:41.153613",
   "version": "2.6.0"
  }
 },
 "nbformat": 4,
 "nbformat_minor": 5
}
